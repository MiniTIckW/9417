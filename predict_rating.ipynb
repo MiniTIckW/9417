{
 "cells": [
  {
   "cell_type": "code",
   "execution_count": 13,
   "metadata": {},
   "outputs": [],
   "source": [
    "import sys\n",
    "import os\n",
    "import codecs\n",
    "from math import pow, sqrt"
   ]
  },
  {
   "cell_type": "code",
   "execution_count": 14,
   "metadata": {},
   "outputs": [],
   "source": [
    "users = {}\n",
    "movies = {}\n",
    "base_file = 'u1.base'\n",
    "file = open(base_file,'r')\n",
    "for line in file.readlines():\n",
    "    line = line.strip().split()\n",
    "    if not line[0] in users.keys():\n",
    "        users[line[0]] = {line[1]:line[2]}\n",
    "    else:\n",
    "        users[line[0]][line[1]] = line[2]\n",
    "        \n",
    "    if not line[1] in movies.keys():\n",
    "        movies[line[1]] = {line[0]:line[2]}\n",
    "    else:\n",
    "        movies[line[1]][line[0]] = line[2]"
   ]
  },
  {
   "cell_type": "code",
   "execution_count": 15,
   "metadata": {},
   "outputs": [],
   "source": [
    "test = {}\n",
    "ratesums = 0\n",
    "test_file = 'u1.test'\n",
    "file = open(test_file,'r')\n",
    "for line in file.readlines():\n",
    "    line = line.strip().split()\n",
    "    if not line[0] in test.keys():\n",
    "        test[line[0]] = {line[1]:line[2]}\n",
    "    else:\n",
    "        test[line[0]][line[1]] = line[2]"
   ]
  },
  {
   "cell_type": "code",
   "execution_count": 16,
   "metadata": {},
   "outputs": [],
   "source": [
    "item = {}\n",
    "mv_type = []\n",
    "\n",
    "type_file = 'u.genre'\n",
    "t_file = open(type_file,\"r\")\n",
    "for t in t_file.readlines():\n",
    "    t = t.strip().split('|')\n",
    "    mv_type.append(t[0])\n",
    "mv_type.pop()\n",
    "\n",
    "item_file = 'u.item'\n",
    "files = open(item_file, \"r\",  encoding=\"iso-8859-15\")\n",
    "for line in files.readlines():\n",
    "    line = line.strip().split('|')\n",
    "    item[line[0]] = [line[1], line[2],line[4]]\n",
    "    type_list = line[5:]\n",
    "    for i in range(len(mv_type)):\n",
    "        if type_list[i] == '1':\n",
    "            item[line[0]].append(mv_type[i])\n",
    "        "
   ]
  },
  {
   "cell_type": "code",
   "execution_count": 17,
   "metadata": {},
   "outputs": [],
   "source": [
    "def sim_cosine(prefs,item1, item2):\n",
    "    si = {}\n",
    "    for i in prefs[item1]:\n",
    "        if i in prefs[item2]:\n",
    "            si[i] = 1\n",
    "    \n",
    "    n = len(si)\n",
    "    if n == 0: \n",
    "        return 0\n",
    "\n",
    "    x = sqrt(sum([float(prefs[item1][it]) ** 2 for it in si]))\n",
    "    y = sqrt(sum([float(prefs[item2][it]) ** 2 for it in si]))\n",
    "    xy = sum([float(prefs[item1][it]) * float(prefs[item2][it]) for it in si])\n",
    "    cos = xy / (x * y)\n",
    "\n",
    "    return cos"
   ]
  },
  {
   "cell_type": "code",
   "execution_count": 18,
   "metadata": {},
   "outputs": [],
   "source": [
    "def sim_cosine_imp(prefs, item1, item2):\n",
    "    si = {}\n",
    "    sum_item1 = 0.0\n",
    "    sum_item2 = 0.0\n",
    "    for i in prefs[item1]:\n",
    "        if i in prefs[item2]:\n",
    "            sum_item1 += float(prefs[item1][i])\n",
    "            sum_item2 += float(prefs[item2][i])\n",
    "            si[i] = 1\n",
    "\n",
    "    n = len(si)\n",
    "    if n == 0: \n",
    "        return 0\n",
    "    else:\n",
    "        ava1 = sum_item1/n\n",
    "        ava2 = sum_item2/n\n",
    "    \n",
    "    x = sqrt(sum([(float(prefs[item1][it]) - ava1) ** 2 for it in si]))\n",
    "    y = sqrt(sum([(float(prefs[item2][it]) - ava2) ** 2 for it in si]))\n",
    "    if x + y == 0.0:\n",
    "        return 1.0\n",
    "    elif x * y == 0.0:\n",
    "        return 0.0\n",
    "    else:\n",
    "        xy = sum([(float(prefs[item1][it]) - ava1) * (float(prefs[item2][it]) - ava2) for it in si])\n",
    "        cos = xy / (x * y)\n",
    "        return cos\n"
   ]
  },
  {
   "cell_type": "code",
   "execution_count": 19,
   "metadata": {},
   "outputs": [],
   "source": [
    "def simularity(data,user1,user2):\n",
    "    \n",
    "    user1_data = data[user1]\n",
    "    user2_data = data[user2]\n",
    "    distance = 0.0\n",
    "    for key in user1_data.keys():\n",
    "        if key in user2_data.keys():\n",
    "            distance += pow(float(user1_data[key])-float(user2_data[key]),2)\n",
    " \n",
    "    return 1/(1+sqrt(distance))"
   ]
  },
  {
   "cell_type": "code",
   "execution_count": 22,
   "metadata": {},
   "outputs": [],
   "source": [
    "def top_simliar(userId):\n",
    "    \n",
    "    res = {}\n",
    "    movie = users[userId]\n",
    "    if len(movie) == 0:\n",
    "        return []\n",
    "    nbhd = []\n",
    "    for mv in movie:\n",
    "        for pp in movies[mv]:\n",
    "            nbhd.append(pp)\n",
    "    nbhd = list(set(nbhd))\n",
    "    for user in nbhd:\n",
    "        res[user] = simularity(users,userId,user)\n",
    "    \n",
    "    res = sorted(res, key=lambda key: res[key],reverse=True)\n",
    "    \n",
    "    return res[:4]"
   ]
  },
  {
   "cell_type": "code",
   "execution_count": 24,
   "metadata": {},
   "outputs": [],
   "source": [
    "def predict_rating(userId,movieId):\n",
    "    \n",
    "    sim_list = top_simliar(userId)\n",
    "    if movieId not in movies:\n",
    "        return 3.0\n",
    "    if sim_list == []:\n",
    "        return 3.0\n",
    "    simsums = 0.0\n",
    "    predict = 0.0\n",
    "    \n",
    "    for u in sim_list:\n",
    "        if movieId in users[u]:\n",
    "            simsums += simularity(users, u, userId)\n",
    "        \n",
    "    if simsums == 0.0:\n",
    "        n = 0\n",
    "        r_sums = 0.0\n",
    "        for r in movies[movieId]:\n",
    "            r_sums += float(movies[movieId][r])\n",
    "            n += 1\n",
    "        predict = float(round(r_sums/n))\n",
    "    else:\n",
    "        for u in sim_list:\n",
    "            if movieId in users[u]:\n",
    "                sim = simularity(users, u, userId)\n",
    "                predict += sim / simsums * float(users[u][movieId])\n",
    "    return predict"
   ]
  },
  {
   "cell_type": "code",
   "execution_count": 25,
   "metadata": {},
   "outputs": [
    {
     "data": {
      "text/plain": [
       "5.0"
      ]
     },
     "execution_count": 25,
     "metadata": {},
     "output_type": "execute_result"
    }
   ],
   "source": [
    "predict_rating('1','9')"
   ]
  },
  {
   "cell_type": "code",
   "execution_count": 26,
   "metadata": {},
   "outputs": [],
   "source": [
    "def pre_rate_evaluation(userId):\n",
    "    \n",
    "    ratesums = 0  \n",
    "    for i in test[userId]:\n",
    "        rate = abs(float(predict_rating(userId,i)) - float(test[userId][i])) / float(test[userId][i])\n",
    "        rate = 1 - rate\n",
    "        ratesums += rate\n",
    "        \n",
    "    return ratesums / len(test[userId])"
   ]
  },
  {
   "cell_type": "code",
   "execution_count": 30,
   "metadata": {
    "scrolled": true
   },
   "outputs": [
    {
     "name": "stdout",
     "output_type": "stream",
     "text": [
      "63.99%\n"
     ]
    }
   ],
   "source": [
    "print('{:.2%}'.format(pre_rate_evaluation('1')))"
   ]
  },
  {
   "cell_type": "code",
   "execution_count": 29,
   "metadata": {},
   "outputs": [
    {
     "name": "stdout",
     "output_type": "stream",
     "text": [
      "67.08%\n"
     ]
    }
   ],
   "source": [
    "sums = 0.0\n",
    "for i in test:\n",
    "    sums += pre_rate_evaluation(i)\n",
    "print('{:.2%}'.format(sums/len(test)))"
   ]
  },
  {
   "cell_type": "code",
   "execution_count": null,
   "metadata": {},
   "outputs": [],
   "source": []
  }
 ],
 "metadata": {
  "kernelspec": {
   "display_name": "Python 3",
   "language": "python",
   "name": "python3"
  },
  "language_info": {
   "codemirror_mode": {
    "name": "ipython",
    "version": 3
   },
   "file_extension": ".py",
   "mimetype": "text/x-python",
   "name": "python",
   "nbconvert_exporter": "python",
   "pygments_lexer": "ipython3",
   "version": "3.6.5"
  }
 },
 "nbformat": 4,
 "nbformat_minor": 2
}
